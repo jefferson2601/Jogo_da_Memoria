{
  "nbformat": 4,
  "nbformat_minor": 0,
  "metadata": {
    "colab": {
      "provenance": [],
      "mount_file_id": "1CEwdVsvEW0w6aIXnraHB0sOKA11UyBSE",
      "authorship_tag": "ABX9TyN+LxRAEZbKILpMKJMQ0lwf",
      "include_colab_link": true
    },
    "kernelspec": {
      "name": "python3",
      "display_name": "Python 3"
    },
    "language_info": {
      "name": "python"
    }
  },
  "cells": [
    {
      "cell_type": "markdown",
      "metadata": {
        "id": "view-in-github",
        "colab_type": "text"
      },
      "source": [
        "<a href=\"https://colab.research.google.com/github/jefferson2601/Jogo_da_Memoria/blob/main/Jogo_Mem%C3%B3ria.ipynb\" target=\"_parent\"><img src=\"https://colab.research.google.com/assets/colab-badge.svg\" alt=\"Open In Colab\"/></a>"
      ]
    },
    {
      "cell_type": "code",
      "execution_count": 23,
      "metadata": {
        "colab": {
          "base_uri": "https://localhost:8080/"
        },
        "id": "Z05Fe4K-SZbg",
        "outputId": "ab997a62-a163-40f8-b19f-4adc4a714119"
      },
      "outputs": [
        {
          "output_type": "stream",
          "name": "stdout",
          "text": [
            "Requirement already satisfied: pygame in /usr/local/lib/python3.11/dist-packages (2.6.1)\n"
          ]
        }
      ],
      "source": [
        "pip install pygame\n"
      ]
    },
    {
      "cell_type": "code",
      "source": [
        "import pygame\n",
        "import random\n",
        "import os"
      ],
      "metadata": {
        "collapsed": true,
        "id": "rdlrAzsjUcj3"
      },
      "execution_count": 24,
      "outputs": []
    },
    {
      "cell_type": "code",
      "source": [
        "pygame.init()"
      ],
      "metadata": {
        "colab": {
          "base_uri": "https://localhost:8080/"
        },
        "collapsed": true,
        "id": "hjP-lLuzUkz3",
        "outputId": "8477a87b-bfd2-4c14-9c09-5c701862ac99"
      },
      "execution_count": 25,
      "outputs": [
        {
          "output_type": "execute_result",
          "data": {
            "text/plain": [
              "(4, 1)"
            ]
          },
          "metadata": {},
          "execution_count": 25
        }
      ]
    },
    {
      "cell_type": "code",
      "source": [
        "# Configurações de tela e do jogo\n",
        "SCREEN_WIDTH = 600\n",
        "SCREEN_HEIGHT = 600\n",
        "GRID_SIZE = 4  # Aumentamos o grid para 4x4 (16 cartas)\n",
        "TILE_SIZE = SCREEN_WIDTH // GRID_SIZE\n",
        "FPS = 30"
      ],
      "metadata": {
        "id": "NKRu9dIQUoHo"
      },
      "execution_count": 26,
      "outputs": []
    },
    {
      "cell_type": "code",
      "source": [
        "# Cores\n",
        "WHITE = (255, 255, 255)\n",
        "BLACK = (0, 0, 0)\n",
        "GRAY = (200, 200, 200)\n"
      ],
      "metadata": {
        "id": "OMCZFsRrUzEH"
      },
      "execution_count": 27,
      "outputs": []
    },
    {
      "cell_type": "code",
      "source": [
        "# Caminho das imagens (Você pode colocar suas próprias imagens aqui)\n",
        "IMAGES_PATH = '/content/imagens/' # Adiciona uma barra no final do caminho\n",
        "image_files = [f'{IMAGES_PATH}image{i}.png' for i in range(1, 9)]\n",
        "image_files = image_files * 2  # Duplicando para ter pares de imagens"
      ],
      "metadata": {
        "id": "VHX8Wa9JaW94"
      },
      "execution_count": 35,
      "outputs": []
    },
    {
      "cell_type": "code",
      "source": [
        "# Carregando as imagens\n",
        "def load_images():\n",
        "    images = []\n",
        "    for img_file in image_files:\n",
        "        img = pygame.image.load(img_file)\n",
        "        img = pygame.transform.scale(img, (TILE_SIZE, TILE_SIZE))\n",
        "        images.append(img)\n",
        "    return images"
      ],
      "metadata": {
        "id": "EgIGJpFJbFMZ"
      },
      "execution_count": 29,
      "outputs": []
    },
    {
      "cell_type": "code",
      "source": [
        "# Função para desenhar o grid\n",
        "def draw_grid(screen, cards, flipped_cards, images):\n",
        "    screen.fill(WHITE)\n",
        "\n",
        "    for row in range(GRID_SIZE):\n",
        "        for col in range(GRID_SIZE):\n",
        "            card_index = row * GRID_SIZE + col\n",
        "            x = col * TILE_SIZE\n",
        "            y = row * TILE_SIZE\n",
        "            pygame.draw.rect(screen, GRAY, (x, y, TILE_SIZE, TILE_SIZE))  # Desenha o fundo da carta\n",
        "\n",
        "            if card_index in flipped_cards:\n",
        "                screen.blit(images[cards[card_index]], (x, y))  # Exibe a imagem da carta\n",
        "            else:\n",
        "                # Corrigido: adicionando largura e altura para a borda\n",
        "                pygame.draw.rect(screen, BLACK, (x, y, TILE_SIZE, TILE_SIZE), 3)  # Borda das cartas\n",
        "\n",
        "    pygame.display.flip()"
      ],
      "metadata": {
        "id": "2fIIbj5JVCRA"
      },
      "execution_count": 37,
      "outputs": []
    },
    {
      "cell_type": "code",
      "source": [
        "# Função para embaralhar as cartas\n",
        "def shuffle_board():\n",
        "    cards = list(range(8)) * 2  # 8 pares de cartas\n",
        "    random.shuffle(cards)\n",
        "    return cards"
      ],
      "metadata": {
        "id": "5DiCmJyqZMNF"
      },
      "execution_count": 31,
      "outputs": []
    },
    {
      "cell_type": "code",
      "source": [
        "# IA: A IA vai tentar \"lembrar\" as posições das cartas\n",
        "def ai_turn(cards, flipped_cards, board_state):\n",
        "    for i in range(len(cards)):\n",
        "        if i not in flipped_cards:\n",
        "            for j in range(i+1, len(cards)):\n",
        "                if j not in flipped_cards and cards[i] == cards[j]:\n",
        "                    return i, j  # IA tenta adivinhar os pares\n",
        "    return None, None  # Caso não tenha encontrado nenhum par"
      ],
      "metadata": {
        "id": "O6_35Y6mbUQC"
      },
      "execution_count": 32,
      "outputs": []
    },
    {
      "cell_type": "code",
      "source": [
        "# Função para verificar se o jogo foi resolvido\n",
        "def check_win(board):\n",
        "    count = 1\n",
        "    for row in board:\n",
        "        for tile in row:\n",
        "            if tile != count % (GRID_SIZE * GRID_SIZE):\n",
        "                return False\n",
        "            count += 1\n",
        "    return True"
      ],
      "metadata": {
        "id": "vHeQKiDQZPlG"
      },
      "execution_count": 33,
      "outputs": []
    },
    {
      "cell_type": "code",
      "source": [
        "# Função principal do jogo\n",
        "def main():\n",
        "    screen = pygame.display.set_mode((SCREEN_WIDTH, SCREEN_HEIGHT))\n",
        "    pygame.display.set_caption(\"Jogo da Memória\")\n",
        "\n",
        "    cards = shuffle_board()\n",
        "    images = load_images()  # Carregando as imagens\n",
        "    flipped_cards = []  # Lista de cartas viradas\n",
        "    first_card = None  # A primeira carta virada\n",
        "    second_card = None  # A segunda carta virada\n",
        "    matched_pairs = 0  # Contador de pares encontrados\n",
        "    board_state = {}  # Estado atual do jogo para a IA (posição das cartas)\n",
        "    running = True\n",
        "    player_turn = True  # Começa com o jogador\n",
        "    clock = pygame.time.Clock()\n",
        "\n",
        "    while running:\n",
        "        draw_grid(screen, cards, flipped_cards, images)\n",
        "\n",
        "        for event in pygame.event.get():\n",
        "            if event.type == pygame.QUIT:\n",
        "                running = False\n",
        "            elif event.type == pygame.MOUSEBUTTONDOWN and player_turn:\n",
        "                x, y = pygame.mouse.get_pos()\n",
        "                col, row = x // TILE_SIZE, y // TILE_SIZE\n",
        "                card_index = row * GRID_SIZE + col\n",
        "\n",
        "                if card_index not in flipped_cards:\n",
        "                    flipped_cards.append(card_index)\n",
        "\n",
        "                    if first_card is None:\n",
        "                        first_card = card_index\n",
        "                    elif second_card is None:\n",
        "                        second_card = card_index\n",
        "\n",
        "                    if first_card is not None and second_card is not None:\n",
        "                        # Checando se as cartas são iguais\n",
        "                        if cards[first_card] == cards[second_card]:\n",
        "                            matched_pairs += 1\n",
        "                            first_card = None\n",
        "                            second_card = None\n",
        "                        else:\n",
        "                            pygame.time.wait(500)  # Pausa para o jogador ver as cartas\n",
        "                            flipped_cards.remove(first_card)\n",
        "                            flipped_cards.remove(second_card)\n",
        "                            first_card = None\n",
        "                            second_card = None\n",
        "\n",
        "                    player_turn = False  # Depois do jogador, é a vez da IA\n",
        "\n",
        "        # A IA jogando\n",
        "        if not player_turn:\n",
        "            i, j = ai_turn(cards, flipped_cards, board_state)\n",
        "            if i is not None and j is not None:\n",
        "                flipped_cards.append(i)\n",
        "                flipped_cards.append(j)\n",
        "                if cards[i] == cards[j]:\n",
        "                    matched_pairs += 1\n",
        "                pygame.time.wait(1000)  # Pausa entre os turnos da IA\n",
        "                player_turn = True  # Volta para o jogador\n",
        "\n",
        "        if matched_pairs == len(cards) // 2:\n",
        "            print(\"Jogo Finalizado!\")\n",
        "            running = False\n",
        "\n",
        "        clock.tick(FPS)\n",
        "\n",
        "    pygame.quit()\n",
        "\n",
        "if __name__ == \"__main__\":\n",
        "    main()"
      ],
      "metadata": {
        "colab": {
          "base_uri": "https://localhost:8080/",
          "height": 297
        },
        "id": "Ji6k76zZbh8u",
        "outputId": "414a137e-a16f-4be8-a3b8-5c358de8e6b5"
      },
      "execution_count": 38,
      "outputs": [
        {
          "output_type": "error",
          "ename": "KeyboardInterrupt",
          "evalue": "",
          "traceback": [
            "\u001b[0;31m---------------------------------------------------------------------------\u001b[0m",
            "\u001b[0;31mKeyboardInterrupt\u001b[0m                         Traceback (most recent call last)",
            "\u001b[0;32m<ipython-input-38-26622f7b148f>\u001b[0m in \u001b[0;36m<cell line: 0>\u001b[0;34m()\u001b[0m\n\u001b[1;32m     69\u001b[0m \u001b[0;34m\u001b[0m\u001b[0m\n\u001b[1;32m     70\u001b[0m \u001b[0;32mif\u001b[0m \u001b[0m__name__\u001b[0m \u001b[0;34m==\u001b[0m \u001b[0;34m\"__main__\"\u001b[0m\u001b[0;34m:\u001b[0m\u001b[0;34m\u001b[0m\u001b[0;34m\u001b[0m\u001b[0m\n\u001b[0;32m---> 71\u001b[0;31m     \u001b[0mmain\u001b[0m\u001b[0;34m(\u001b[0m\u001b[0;34m)\u001b[0m\u001b[0;34m\u001b[0m\u001b[0;34m\u001b[0m\u001b[0m\n\u001b[0m",
            "\u001b[0;32m<ipython-input-38-26622f7b148f>\u001b[0m in \u001b[0;36mmain\u001b[0;34m()\u001b[0m\n\u001b[1;32m     64\u001b[0m             \u001b[0mrunning\u001b[0m \u001b[0;34m=\u001b[0m \u001b[0;32mFalse\u001b[0m\u001b[0;34m\u001b[0m\u001b[0;34m\u001b[0m\u001b[0m\n\u001b[1;32m     65\u001b[0m \u001b[0;34m\u001b[0m\u001b[0m\n\u001b[0;32m---> 66\u001b[0;31m         \u001b[0mclock\u001b[0m\u001b[0;34m.\u001b[0m\u001b[0mtick\u001b[0m\u001b[0;34m(\u001b[0m\u001b[0mFPS\u001b[0m\u001b[0;34m)\u001b[0m\u001b[0;34m\u001b[0m\u001b[0;34m\u001b[0m\u001b[0m\n\u001b[0m\u001b[1;32m     67\u001b[0m \u001b[0;34m\u001b[0m\u001b[0m\n\u001b[1;32m     68\u001b[0m     \u001b[0mpygame\u001b[0m\u001b[0;34m.\u001b[0m\u001b[0mquit\u001b[0m\u001b[0;34m(\u001b[0m\u001b[0;34m)\u001b[0m\u001b[0;34m\u001b[0m\u001b[0;34m\u001b[0m\u001b[0m\n",
            "\u001b[0;31mKeyboardInterrupt\u001b[0m: "
          ]
        }
      ]
    }
  ]
}